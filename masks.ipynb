{
 "cells": [
  {
   "cell_type": "code",
   "execution_count": 43,
   "id": "a2705c1d",
   "metadata": {},
   "outputs": [],
   "source": [
    "import os\n",
    "import numpy as np\n",
    "import cv2\n",
    "import torch\n",
    "from skimage.segmentation import slic\n",
    "from torch_geometric.data import Data\n",
    "from torch_geometric.nn import GCNConv\n",
    "from sklearn.model_selection import train_test_split\n",
    "from tqdm import tqdm\n",
    "import datetime\n",
    "import matplotlib.pyplot as plt\n",
    "from torchvision import transforms\n",
    "\n",
    "time = str(datetime.datetime.now()).split(\" \")[0]"
   ]
  },
  {
   "cell_type": "code",
   "execution_count": 57,
   "id": "5543b5a5",
   "metadata": {},
   "outputs": [
    {
     "name": "stdout",
     "output_type": "stream",
     "text": [
      "cpu\n"
     ]
    }
   ],
   "source": [
    "# Constants\n",
    "NUM_CLASSES = 5  # Adjust based on the number of roof material types\n",
    "if torch.cuda.is_available():\n",
    "    DEVICE = torch.device(\"cuda\")\n",
    "else:\n",
    "    DEVICE = torch.device(\"cpu\")\n",
    "print(DEVICE)\n",
    "SATELLITE_FOLDER = \"./images/satellites\"\n",
    "MASK_FOLDER = \"./images/masks\"\n",
    "MODEL_PATH = \"./gcn_roof_model.pth\"\n",
    "\n",
    "# Hyperparameter\n",
    "\n"
   ]
  },
  {
   "cell_type": "code",
   "execution_count": 58,
   "id": "42e7fae4",
   "metadata": {},
   "outputs": [],
   "source": [
    "\n",
    "# GCN Model Definition\n",
    "class GCN(torch.nn.Module):\n",
    "    def __init__(self, in_channels, hidden_channels, out_channels):\n",
    "        super(GCN, self).__init__()\n",
    "        self.conv1 = GCNConv(in_channels, hidden_channels)\n",
    "        self.conv2 = GCNConv(hidden_channels, out_channels)\n",
    "\n",
    "    def forward(self, x, edge_index):\n",
    "        x = self.conv1(x, edge_index).relu()\n",
    "        x = self.conv2(x, edge_index)\n",
    "        return x\n",
    "\n",
    "def preprocess_data(image_path, mask_path, flipp):\n",
    "    image = cv2.imread(image_path)\n",
    "    mask = cv2.imread(mask_path, cv2.IMREAD_GRAYSCALE)  # Load as grayscale for single-channel labels\n",
    "    if flipp == 1:\n",
    "        image = cv2.flip(image, 1)\n",
    "        mask = cv2.flip(mask, 1)\n",
    "    \n",
    "    # Replace grayscale values with new labels\n",
    "    mask[mask == 255] = 0\n",
    "    mask[mask == 179] = 1\n",
    "    mask[mask == 131] = 2\n",
    "    mask[mask == 150] = 3\n",
    "    mask[mask == 222] = 4\n",
    "\n",
    "    # Segment satellite image into superpixels\n",
    "    segments = slic(image, n_segments=100, compactness=10, start_label=1)\n",
    "\n",
    "    # Generate node features (average color of each superpixel) and labels\n",
    "    node_features = []\n",
    "    node_labels = []\n",
    "    unique_segments = np.unique(segments)\n",
    "\n",
    "    for segment in unique_segments:\n",
    "        mask_segment = segments == segment\n",
    "        avg_color = image[mask_segment].mean(axis=0)\n",
    "        node_features.append(avg_color)\n",
    "\n",
    "        # Majority vote for label assignment\n",
    "        segment_labels = mask[mask_segment]\n",
    "        label = np.argmax(np.bincount(segment_labels))\n",
    "        node_labels.append(label)\n",
    "    \n",
    "    # Convert to PyTorch tensors\n",
    "    node_features = torch.tensor(np.array(node_features), dtype=torch.float32).to(DEVICE)\n",
    "    node_labels = torch.tensor(np.array(node_labels), dtype=torch.long).to(DEVICE)\n",
    "    \n",
    "    # Generate simple edge connections (adjacent superpixels)\n",
    "    edges = [[i, i + 1] for i in range(len(unique_segments) - 1)]\n",
    "    edge_index = torch.tensor(edges, dtype=torch.long).t().contiguous().to(DEVICE)\n",
    "\n",
    "    # Create the graph data object and store segments for potential later use\n",
    "    data = Data(x=node_features, edge_index=edge_index, y=node_labels)\n",
    "    data.segments = segments  # Optional: useful if you want to map predictions back to the original image shape\n",
    "    return data\n",
    "\n",
    "# Load all images and masks into graphs\n",
    "def load_dataset(satellite_folder, mask_folder):\n",
    "    dataset = []\n",
    "    satellite_images = sorted([f for f in os.listdir(satellite_folder) if f.lower().endswith('.png')])\n",
    "    masks = sorted([f for f in os.listdir(mask_folder) if f.lower().endswith('.png')])\n",
    "\n",
    "    for sat_image, mask_image in tqdm(zip(satellite_images, masks)):\n",
    "        sat_path = os.path.join(satellite_folder, sat_image)\n",
    "        mask_path = os.path.join(mask_folder, mask_image)\n",
    "        graph_data = preprocess_data(sat_path, mask_path, flipp = 0)\n",
    "        dataset.append(graph_data)\n",
    "        graph_data = preprocess_data(sat_path, mask_path, flipp= 1)\n",
    "        dataset.append(graph_data)\n",
    "    return dataset\n",
    "\n",
    "# Function to save model and training state\n",
    "def save_checkpoint(model, optimizer, epoch, path):\n",
    "    checkpoint = {\n",
    "        'model_state_dict': model.state_dict(),\n",
    "        'optimizer_state_dict': optimizer.state_dict(),\n",
    "        'epoch': epoch\n",
    "    }\n",
    "    torch.save(checkpoint, path)\n",
    "    print(f\"Checkpoint saved at: {path}\")\n",
    "\n",
    "# Function to load model and training state\n",
    "def load_checkpoint(path, model, optimizer):\n",
    "    if os.path.exists(path):\n",
    "        checkpoint = torch.load(path)\n",
    "        model.load_state_dict(checkpoint['model_state_dict'])\n",
    "        optimizer.load_state_dict(checkpoint['optimizer_state_dict'])\n",
    "        start_epoch = checkpoint.get('epoch', 0)\n",
    "        print(f\"Checkpoint loaded from: {path}.\")\n",
    "        return model, optimizer, start_epoch\n",
    "    else:\n",
    "        print(f\"No checkpoint found at: {path}. Starting from scratch.\")\n",
    "        return model, optimizer, 0\n",
    "\n",
    "# Train the GCN with integrated validation evaluation and metric logging\n",
    "def train_gcn(data_list):\n",
    "    # Split into training and validation sets using the graphs from load_dataset\n",
    "    train_data, val_data = train_test_split(data_list, test_size=0.2, random_state=42)\n",
    "\n",
    "    # Define GCN model, optimizer, and loss criterion\n",
    "    model = GCN(in_channels=3, hidden_channels=16, out_channels=NUM_CLASSES).to(DEVICE)\n",
    "    optimizer = torch.optim.Adam(model.parameters(), lr=0.001)\n",
    "    weights = [0.5,1,1,1,1]\n",
    "    class_weights = torch.tensor(weights).to(DEVICE)\n",
    "    criterion = torch.nn.CrossEntropyLoss(weight=class_weights)\n",
    "\n",
    "    # Load checkpoint if available\n",
    "    model, optimizer, start_epoch = load_checkpoint(MODEL_PATH, model, optimizer)\n",
    "    # Lists to record metrics\n",
    "    train_losses = []\n",
    "    val_losses = []\n",
    "    val_accuracies = []\n",
    "    # Training loop with metric logging\n",
    "    epoch_num = 100\n",
    "    if start_epoch >= epoch_num:\n",
    "        epoch_num = start_epoch + epoch_num\n",
    "    for epoch in tqdm(range(start_epoch, epoch_num)):\n",
    "        model.train()\n",
    "        train_loss = 0\n",
    "        for data in train_data:\n",
    "            optimizer.zero_grad()\n",
    "            out = model(data.x, data.edge_index)\n",
    "            loss = criterion(out, data.y)\n",
    "            loss.backward()\n",
    "            optimizer.step()\n",
    "            train_loss += loss.item()\n",
    "        avg_train_loss = train_loss / len(train_data)\n",
    "        train_losses.append(avg_train_loss)\n",
    "\n",
    "        # Evaluate on validation data\n",
    "        model.eval()\n",
    "        val_loss = 0\n",
    "        correct = 0\n",
    "        total = 0\n",
    "        with torch.no_grad():\n",
    "            for data in val_data:\n",
    "                out = model(data.x, data.edge_index)\n",
    "                loss = criterion(out, data.y)\n",
    "                val_loss += loss.item()\n",
    "                preds = out.argmax(dim=1)\n",
    "                correct += (preds == data.y).sum().item()\n",
    "                total += data.y.size(0)\n",
    "        avg_val_loss = val_loss / len(val_data)\n",
    "        val_losses.append(avg_val_loss)\n",
    "        val_accuracy = correct / total\n",
    "        val_accuracies.append(val_accuracy)\n",
    "\n",
    "        \"\"\"print(f\"Epoch {epoch + 1}, Train Loss: {avg_train_loss:.4f}, \"\n",
    "              f\"Val Loss: {avg_val_loss:.4f}, Val Accuracy: {val_accuracy:.4f}\")\"\"\"\n",
    "\n",
    "    save_checkpoint(model, optimizer, epoch_num, MODEL_PATH)\n",
    "    print(\"Training complete.\")\n",
    "    return model, val_data, train_losses, val_losses, val_accuracies\n"
   ]
  },
  {
   "cell_type": "code",
   "execution_count": 46,
   "id": "d8060cc1",
   "metadata": {},
   "outputs": [
    {
     "name": "stderr",
     "output_type": "stream",
     "text": [
      "504it [04:01,  2.08it/s]"
     ]
    },
    {
     "name": "stdout",
     "output_type": "stream",
     "text": [
      "Loaded 1008 graphs.\n"
     ]
    },
    {
     "name": "stderr",
     "output_type": "stream",
     "text": [
      "\n"
     ]
    }
   ],
   "source": [
    "# Step 1: Load all images and masks as graphs\n",
    "dataset = load_dataset(SATELLITE_FOLDER, MASK_FOLDER)\n",
    "print(f\"Loaded {len(dataset)} graphs.\")\n"
   ]
  },
  {
   "cell_type": "code",
   "execution_count": 59,
   "id": "3ab7500f",
   "metadata": {},
   "outputs": [
    {
     "name": "stdout",
     "output_type": "stream",
     "text": [
      "No checkpoint found at: ./gcn_roof_model.pth. Starting from scratch.\n"
     ]
    },
    {
     "name": "stderr",
     "output_type": "stream",
     "text": [
      "100%|██████████| 100/100 [00:59<00:00,  1.69it/s]"
     ]
    },
    {
     "name": "stdout",
     "output_type": "stream",
     "text": [
      "Checkpoint saved at: ./gcn_roof_model.pth\n",
      "Training complete.\n"
     ]
    },
    {
     "name": "stderr",
     "output_type": "stream",
     "text": [
      "\n"
     ]
    }
   ],
   "source": [
    "\n",
    "# Step 2: Train GCN with integrated validation evaluation and metric logging\n",
    "trained_model, validation_data, train_losses, val_losses, val_accuracies = train_gcn(dataset)\n"
   ]
  },
  {
   "cell_type": "code",
   "execution_count": 60,
   "id": "f6f6a6ea",
   "metadata": {},
   "outputs": [
    {
     "name": "stdout",
     "output_type": "stream",
     "text": [
      "Final Validation Accuracy: 0.9280\n",
      "Class-wise detection count (how many times each class was predicted):\n",
      "Class 0: 12241.0 detections (99.36% of total)\n",
      "Class 1: 77.0 detections (0.62% of total)\n",
      "Class 2: 2.0 detections (0.02% of total)\n",
      "Class 3: 0.0 detections (0.00% of total)\n",
      "Class 4: 0.0 detections (0.00% of total)\n",
      "\n",
      "Class-wise correct detection rate:\n",
      "Class 0: 0.9324 correct detections rate\n",
      "Class 1: 0.2338 correct detections rate\n",
      "Class 2: 0.5000 correct detections rate\n",
      "Class 3: 0.0000 correct detections rate\n",
      "Class 4: 0.0000 correct detections rate\n"
     ]
    }
   ],
   "source": [
    "\n",
    "# Optional: Evaluate final validation accuracy\n",
    "trained_model.eval()\n",
    "correct = 0\n",
    "total = 0\n",
    "class_counts = np.zeros(NUM_CLASSES)  # To count detection for each class\n",
    "class_correct = np.zeros(NUM_CLASSES)  # To count correct predictions per class\n",
    "\n",
    "with torch.no_grad():\n",
    "    for data in validation_data:\n",
    "        out = trained_model(data.x, data.edge_index)\n",
    "        preds = out.argmax(dim=1)\n",
    "        \n",
    "        # Update total and correct counts for accuracy\n",
    "        correct += (preds == data.y).sum().item()\n",
    "        total += data.y.size(0)\n",
    "\n",
    "        # Update class detection counts\n",
    "        for label in range(NUM_CLASSES):\n",
    "            class_counts[label] += (preds == label).sum().item()\n",
    "            class_correct[label] += ((preds == label) & (data.y == label)).sum().item()\n",
    "\n",
    "final_val_accuracy = correct / total\n",
    "print(f\"Final Validation Accuracy: {final_val_accuracy:.4f}\")\n",
    "\n",
    "# Print the class detection counts and the correct detection rate per class\n",
    "print(\"Class-wise detection count (how many times each class was predicted):\")\n",
    "for i in range(NUM_CLASSES):\n",
    "    detection_rate = class_counts[i] / total * 100  # Percentage of detections for this class\n",
    "    print(f\"Class {i}: {class_counts[i]} detections ({detection_rate:.2f}% of total)\")\n",
    "\n",
    "print(\"\\nClass-wise correct detection rate:\")\n",
    "for i in range(NUM_CLASSES):\n",
    "    correct_detection_rate = class_correct[i] / class_counts[i] if class_counts[i] > 0 else 0\n",
    "    print(f\"Class {i}: {correct_detection_rate:.4f} correct detections rate\")\n",
    "   "
   ]
  },
  {
   "cell_type": "code",
   "execution_count": 61,
   "id": "39cfb2fe",
   "metadata": {},
   "outputs": [
    {
     "data": {
      "image/png": "[encoded data removed]",
      "text/plain": [
       "<Figure size 1000x600 with 1 Axes>"
      ]
     },
     "metadata": {},
     "output_type": "display_data"
    }
   ],
   "source": [
    " \n",
    "# Plotting the metrics\n",
    "epochs = range(len(train_losses))\n",
    "plt.figure(figsize=(10, 6))\n",
    "plt.plot(epochs, train_losses, label='Train Loss')\n",
    "plt.plot(epochs, val_losses, label='Validation Loss')\n",
    "plt.plot(epochs, val_accuracies, label='Validation Accuracy')\n",
    "plt.xlabel('Epoch')\n",
    "plt.ylabel('Metric Value')\n",
    "plt.title('Training Loss, Validation Loss, and Validation Accuracy')\n",
    "plt.legend()\n",
    "plt.grid(True)\n",
    "plt.show()\n"
   ]
  }
 ],
 "metadata": {
  "kernelspec": {
   "display_name": "Python 3",
   "language": "python",
   "name": "python3"
  },
  "language_info": {
   "codemirror_mode": {
    "name": "ipython",
    "version": 3
   },
   "file_extension": ".py",
   "mimetype": "text/x-python",
   "name": "python",
   "nbconvert_exporter": "python",
   "pygments_lexer": "ipython3",
   "version": "3.10.1"
  }
 },
 "nbformat": 4,
 "nbformat_minor": 5
}
